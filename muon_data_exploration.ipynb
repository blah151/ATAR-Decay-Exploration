{
 "cells": [
  {
   "cell_type": "code",
   "execution_count": 3,
   "source": [
    "import ROOT as r\n",
    "import numpy as np\n",
    "from matplotlib import pyplot as plt\n",
    "%matplotlib inline"
   ],
   "outputs": [
    {
     "output_type": "stream",
     "name": "stdout",
     "text": [
      "Welcome to JupyROOT 6.24/00\n"
     ]
    }
   ],
   "metadata": {}
  },
  {
   "cell_type": "code",
   "execution_count": 4,
   "source": [
    "#Lets look at some pi -> mu decays and compare their characteristics to the pi -> e decays.\n",
    "f = r.TFile(\"pienux_out_stripped_muons.root\")\n",
    "f.ls()"
   ],
   "outputs": [
    {
     "output_type": "stream",
     "name": "stdout",
     "text": [
      "TFile**\t\tpienux_out_stripped_muons.root\t\n",
      " TFile*\t\tpienux_out_stripped_muons.root\t\n",
      "  KEY: TTree\tinit;2\tInitial conditions of the simulation [current cycle]\n",
      "  KEY: TTree\tinit;1\tInitial conditions of the simulation [backup cycle]\n",
      "  KEY: TTree\tatar;6\tEnergy deposited in the ATAR [current cycle]\n",
      "  KEY: TTree\tatar;5\tEnergy deposited in the ATAR [backup cycle]\n",
      "  KEY: TTree\tatar;4\tEnergy deposited in the ATAR [backup cycle]\n",
      "  KEY: TTree\tcalorimeter;2\tEnergy deposited in the calorimeter [current cycle]\n",
      "  KEY: TTree\tcalorimeter;1\tEnergy deposited in the calorimeter [backup cycle]\n",
      "  KEY: TTree\tdegrader;2\tDegrader [current cycle]\n",
      "  KEY: TTree\tdegrader;1\tDegrader [backup cycle]\n",
      "  KEY: TTree\tpipe;2\tEvents in the beampipe [current cycle]\n",
      "  KEY: TTree\tpipe;1\tEvents in the beampipe [backup cycle]\n"
     ]
    }
   ],
   "metadata": {}
  },
  {
   "cell_type": "code",
   "execution_count": 5,
   "source": [
    "t = f.Get(\"atar\")\n",
    "print([x.GetName() for x in t.GetListOfBranches()])"
   ],
   "outputs": [
    {
     "output_type": "stream",
     "name": "stdout",
     "text": [
      "['pixel_hits', 'pixel_pdg', 'pixel_edep', 'pixel_time', 'nhit', 'has_pion', 'pion_decay', 'pion_dar', 'has_muon', 'muon_decay', 'muon_dar', 'has_positron', 'pion_total_edep', 'muon_total_edep', 'pos_total_edep', 'has_excited_nucleus', 'external_total_edep']\n"
     ]
    }
   ],
   "metadata": {}
  },
  {
   "cell_type": "code",
   "execution_count": 6,
   "source": [
    "for i, e in enumerate(t):\n",
    "    #Print list of entries with no pion decay or pion decay in flight.\n",
    "    if e.pion_decay == 1 and e.pion_dar == 0:\n",
    "        print(i)\n",
    "        \n",
    "    if i == 5000:\n",
    "        break"
   ],
   "outputs": [
    {
     "output_type": "stream",
     "name": "stdout",
     "text": [
      "781\n",
      "1748\n",
      "2665\n"
     ]
    }
   ],
   "metadata": {}
  },
  {
   "cell_type": "code",
   "execution_count": 35,
   "source": [
    "pixel_hits_motion = None\n",
    "\n",
    "for i, e in enumerate(t):\n",
    "    # print(i, e.pixel_hits)\n",
    "    # print(i, e.pixel_pdg)\n",
    "    # print(i, e.pixel_time)\n",
    "    \n",
    "    #Store pixel hits for one of the entries printed above in which a pion didn't decay at rest.\n",
    "    if i == 781:\n",
    "        pixel_times_motion = e.pixel_time\n",
    "        pixel_hits_motion = e.pixel_hits\n",
    "        pixel_pdg_motion = e.pixel_pdg\n",
    "        break\n",
    "\n",
    "print(pixel_times_motion)\n",
    "print(pixel_hits_motion)\n",
    "print(pixel_pdg_motion)"
   ],
   "outputs": [
    {
     "output_type": "stream",
     "name": "stdout",
     "text": [
      "{ 2.2180406, 2.2191680, 2.2203121, 2.2214691, 2.2226385, 2.2238195, 2.2250124, 2.2262223, 2.2274542, 2.2276055, 2.2288391, 2.2297507, 2.2303408, 2.2319262, 2.2326459, 2.2335621, 2.2352393, 2.2357363, 2.2369963, 2.2388119, 2.2388812, 2.2406333, 2.2421566, 2.2424996, 2.2444492, 2.2464068, 2.2486490, 2.2511379, 2.2528692, 2.2549853, 2.2585487, 312.82465, 312.82485, 312.82514, 312.82618, 312.82644, 312.82771, 312.82833, 312.82861, 312.82959, 312.82981, 312.83108, 312.83173, 312.83211, 312.83307, 312.83360, 312.83438, 312.83515, 312.83565, 312.83652, 312.83661, 312.83783, 312.83843, 312.83880, 312.83916, 312.84004, 312.84094, 312.84099, 312.84158, 312.84259, 312.84373, 312.84418, 312.84488, 312.84545 }\n",
      "{ 100014, 100180, 100214, 100380, 100414, 100580, 100614, 100780, 100814, 100980, 100980, 101014, 101015, 101179, 101215, 101216, 101379, 101416, 101417, 101578, 101617, 101618, 101778, 101777, 101819, 101977, 102020, 102177, 102221, 102222, 102223, 102223, 102176, 102177, 102178, 102025, 102026, 101980, 101981, 101982, 101828, 101829, 101784, 101785, 101786, 101631, 101632, 101588, 101589, 101590, 101434, 101435, 101436, 101392, 101393, 101394, 101395, 101238, 101239, 101240, 101241, 101198, 101199, 101200 }\n",
      "{ 211, 211, 211, 211, 211, 211, 211, 211, 211, 211, -13, -13, -13, -13, -13, -13, -13, -13, -13, -13, -13, -13, -13, -13, -13, -13, -13, -13, -13, -13, -13, -11, -11, -11, -11, -11, -11, -11, -11, -11, -11, -11, -11, -11, -11, -11, -11, -11, -11, -11, -11, -11, -11, -11, -11, -11, -11, -11, -11, -11, -11, -11, -11, -11 }\n"
     ]
    }
   ],
   "metadata": {}
  },
  {
   "cell_type": "code",
   "execution_count": 36,
   "source": [
    "#Extract the time vs. x and time vs. y data from the pixel_hits. The ATAR is made up of sheets that contain alternating horizontal or vertical strips with npixels_per_plane.\n",
    "#If npixels_per_plane were 100, for instance, 100036 would represent plate 1, 36 / 100 in x, 100161 would represent plate 2, 61 / 100 in y, etc. The output for each of \n",
    "#x and y is an n x 2 matrix, where the first column contains the times corresponding to the coordinate values in the second column.\n",
    "#Also extract the z (plane #) vs. time data. The third element of the tuples contained in this list and the x and y lists will contain red / blue / green colors to represent\n",
    "#when particles have decayed.\n",
    "def get_event_data():\n",
    "    npixels_per_plane = 100\n",
    "    txc_data = []\n",
    "    tyc_data = []\n",
    "    tzc_data = []\n",
    "\n",
    "    for i in range(pixel_hits_motion.size()):\n",
    "        plane = int(np.floor((pixel_hits_motion[i] - 1 - 100_000) / npixels_per_plane))\n",
    "\n",
    "        cur_val = (pixel_hits_motion[i] - 1) % npixels_per_plane\n",
    "        cur_time = pixel_times_motion[i]\n",
    "        \n",
    "        if pixel_pdg_motion[i] == 211:\n",
    "            cur_color = \"r\"     # +Pion\n",
    "        elif pixel_pdg_motion[i] == -11:\n",
    "            cur_color = \"b\"     # Positron\n",
    "        elif pixel_pdg_motion[i] == 11:\n",
    "            cur_color = \"g\"     # Electron\n",
    "        elif pixel_pdg_motion[i] == -13:\n",
    "            cur_color = \"y\"     # +Muon\n",
    "        elif pixel_pdg_motion[i] == 13:\n",
    "            cur_color = \"p\"     # -Muon\n",
    "\n",
    "\n",
    "        tzc_data.append((cur_time, plane, cur_color))\n",
    "\n",
    "        if(plane % 2 == 0):\n",
    "            txc_data.append((cur_time, cur_val, cur_color))\n",
    "        else:\n",
    "            tyc_data.append((cur_time, cur_val, cur_color))\n",
    "    \n",
    "    return (txc_data, tyc_data, tzc_data)"
   ],
   "outputs": [],
   "metadata": {}
  },
  {
   "cell_type": "code",
   "execution_count": 37,
   "source": [
    "txc_data, tyc_data, tzc_data = get_event_data()\n",
    "print(pixel_hits_motion.size())\n",
    "print(len(txc_data))\n",
    "print(len(tyc_data))\n",
    "\n",
    "print(txc_data)"
   ],
   "outputs": [
    {
     "output_type": "stream",
     "name": "stdout",
     "text": [
      "64\n",
      "32\n",
      "32\n",
      "[(2.2180406464733355, 13, 'r'), (2.220312091676631, 13, 'r'), (2.2226385370205066, 13, 'r'), (2.2250123977636496, 13, 'r'), (2.2274542332054006, 13, 'r'), (2.2297507200996294, 13, 'y'), (2.230340780270639, 14, 'y'), (2.232645914378166, 14, 'y'), (2.233562064706862, 15, 'y'), (2.235736291593601, 15, 'y'), (2.236996288145119, 16, 'y'), (2.2388812130246047, 16, 'y'), (2.24063329660363, 17, 'y'), (2.2444491557185633, 18, 'y'), (2.248649006056382, 19, 'y'), (2.252869188454851, 20, 'y'), (2.254985289564746, 21, 'y'), (2.258548703979449, 22, 'y'), (312.8246506861661, 22, 'b'), (312.82644271341655, 24, 'b'), (312.8277125838962, 25, 'b'), (312.82981251349975, 27, 'b'), (312.8310846806117, 28, 'b'), (312.83359547575236, 30, 'b'), (312.8343836280823, 31, 'b'), (312.8366101216915, 33, 'b'), (312.8378263355075, 34, 'b'), (312.83842636427505, 35, 'b'), (312.8409930461533, 37, 'b'), (312.84157733319756, 38, 'b'), (312.84259247378554, 39, 'b'), (312.84373117220525, 40, 'b')]\n"
     ]
    }
   ],
   "metadata": {}
  },
  {
   "cell_type": "code",
   "execution_count": 40,
   "source": [
    "plt.figure(figsize = (20, 5))\n",
    "\n",
    "#Print out graphs. Red = pion, blue = electron. I don't know what the 22 represents, so that is not accounted for.\n",
    "plt.subplot(1,3,1)\n",
    "plt.scatter([i[0] for i in txc_data], [i[1] for i in txc_data], 10, [i[2] for i in txc_data])\n",
    "plt.title(\"x vs. t\")\n",
    "plt.xlabel(\"t (ns)\")\n",
    "plt.ylabel(\"x (pix)\")\n",
    "# plt.xlim(1, 2.5)\n",
    "\n",
    "plt.subplot(1,3,2)\n",
    "plt.scatter([i[0] for i in tyc_data], [i[1] for i in tyc_data], 10, [i[2] for i in tyc_data])\n",
    "plt.title(\"y vs. t\")\n",
    "plt.xlabel(\"t (ns)\")\n",
    "plt.ylabel(\"y (pix)\")\n",
    "# plt.xlim(1, 2.5)\n",
    "\n",
    "plt.subplot(1,3,3)\n",
    "plt.scatter([i[0] for i in tzc_data], [i[1] for i in tzc_data], 10, [i[2] for i in tzc_data])\n",
    "plt.title(\"z vs. t\")\n",
    "plt.xlabel(\"t (ns)\")\n",
    "plt.ylabel(\"z (# of planes)\")\n",
    "# plt.xlim(1, 2.5)\n",
    "\n",
    "plt.subplots_adjust(left = 0.1,\n",
    "                    bottom = 0.1, \n",
    "                    right = 0.9, \n",
    "                    top = 0.9, \n",
    "                    wspace = 0.5, \n",
    "                    hspace = 0.4)"
   ],
   "outputs": [
    {
     "output_type": "display_data",
     "data": {
      "text/plain": [
       "<Figure size 1440x360 with 3 Axes>"
      ],
      "image/png": "[encoded data removed]"
     },
     "metadata": {
      "needs_background": "light"
     }
    }
   ],
   "metadata": {}
  },
  {
   "cell_type": "code",
   "execution_count": null,
   "source": [],
   "outputs": [],
   "metadata": {}
  }
 ],
 "metadata": {
  "orig_nbformat": 4,
  "language_info": {
   "name": "python"
  }
 },
 "nbformat": 4,
 "nbformat_minor": 2
}