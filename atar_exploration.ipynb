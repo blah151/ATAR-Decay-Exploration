{
 "cells": [
  {
   "cell_type": "code",
   "execution_count": 47,
   "source": [
    "import ROOT as r\n",
    "import numpy as np\n",
    "from matplotlib import pyplot as plt\n",
    "%matplotlib inline"
   ],
   "outputs": [],
   "metadata": {}
  },
  {
   "cell_type": "code",
   "execution_count": 48,
   "source": [
    "#Extract the TTree from the given file location and print out some useful information.\n",
    "def get_file_data(location):\n",
    "    f = r.TFile(location)\n",
    "    f.ls()\n",
    "    tree = f.Get(\"atar\")\n",
    "    print([x.GetName() for x in tree.GetListOfBranches()])\n",
    "    print(\"\\n\")\n",
    "\n",
    "    return tree"
   ],
   "outputs": [],
   "metadata": {}
  },
  {
   "cell_type": "code",
   "execution_count": 49,
   "source": [
    "#Returns the time vs. x and time vs. y data from the pixel_hits. The ATAR is made up of sheets that contain alternating horizontal or vertical strips with npixels_per_plane.\n",
    "#If npixels_per_plane were 100, for instance, 100036 would represent plate 1, 36 / 100 in x, 100161 would represent plate 2, 61 / 100 in y, etc. The output for each of \n",
    "#x and y is an n x 2 matrix, where the first column contains the times corresponding to the coordinate values in the second column.\n",
    "#Also extract the z (plane #) vs. time data. The third element of the tuples contained in this list and the x and y lists will contain corresponding colors to represent\n",
    "#when particles have decayed.\n",
    "def get_event(tree):\n",
    "    print(tree)\n",
    "\n",
    "    #Print an entry with no pion decay or a pion decay in flight.\n",
    "    for i, e in enumerate(tree):\n",
    "        if e.pion_decay == 1 and e.pion_dar == 0:\n",
    "            print(i)\n",
    "            tree.GetEntry(i)\n",
    "            break\n",
    "    #Store pixel hits for the entry printed above in which a pion didn't decay at rest.\n",
    "    pixel_times_motion = tree.pixel_time\n",
    "    pixel_hits_motion = tree.pixel_hits\n",
    "    pixel_pdg_motion = tree.pixel_pdg\n",
    "    \n",
    "    #Create empty data structures for storing x vs. t, y vs. t, and z vs. t data.\n",
    "    npixels_per_plane = 100\n",
    "    txc_data = []\n",
    "    tyc_data = []\n",
    "    tzc_data = []\n",
    "\n",
    "    #Extract x vs. t, y vs. t, and z vs. t data. Also add indexed color coding to represent different particles.\n",
    "    for i in range(pixel_hits_motion.size()):\n",
    "        plane = int(np.floor((pixel_hits_motion[i] - 1 - 100_000) / npixels_per_plane))\n",
    "\n",
    "        cur_val = (pixel_hits_motion[i] - 1) % npixels_per_plane\n",
    "        cur_time = pixel_times_motion[i]\n",
    "        \n",
    "        if pixel_pdg_motion[i] == 211:\n",
    "            cur_color = \"r\"     # Pion\n",
    "        elif pixel_pdg_motion[i] == -11:\n",
    "            cur_color = \"b\"     # Positron\n",
    "        else:\n",
    "            cur_color = \"g\"     # Electron\n",
    "\n",
    "\n",
    "        tzc_data.append((cur_time, plane, cur_color))\n",
    "\n",
    "        if(plane % 2 == 0):\n",
    "            txc_data.append((cur_time, cur_val, cur_color))\n",
    "        else:\n",
    "            tyc_data.append((cur_time, cur_val, cur_color))\n",
    "    \n",
    "    return (txc_data, tyc_data, tzc_data)"
   ],
   "outputs": [],
   "metadata": {}
  },
  {
   "cell_type": "code",
   "execution_count": 50,
   "source": [
    "#Show some useful parameters describing our event.\n",
    "def display_event(txc_data, tyc_data, tzc_data):\n",
    "    txc_data, tyc_data, tzc_data = get_event()\n",
    "    print(len(txc_data))\n",
    "    print(len(tyc_data))\n",
    "\n",
    "    print(txc_data)"
   ],
   "outputs": [],
   "metadata": {}
  },
  {
   "cell_type": "code",
   "execution_count": 51,
   "source": [
    "#Plot x vs. t, y vs. t, and z vs. t data from our event. The graphs will show the color-coding system used to represent different particles.\n",
    "def plot_event(txc_data, tyc_data, tzc_data):\n",
    "\n",
    "    plt.figure(figsize = (20, 5))\n",
    "\n",
    "    plt.subplot(1,3,1)\n",
    "    plt.scatter([i[0] for i in txc_data], [i[1] for i in txc_data], 10, [i[2] for i in txc_data])\n",
    "    plt.title(\"x vs. t\")\n",
    "    plt.xlabel(\"t (ns)\")\n",
    "    plt.ylabel(\"x (pix)\")\n",
    "    # plt.xlim(20.157, 20.169)\n",
    "\n",
    "    plt.subplot(1,3,2)\n",
    "    plt.scatter([i[0] for i in tyc_data], [i[1] for i in tyc_data], 10, [i[2] for i in tyc_data])\n",
    "    plt.title(\"y vs. t\")\n",
    "    plt.xlabel(\"t (ns)\")\n",
    "    plt.ylabel(\"y (pix)\")\n",
    "    # plt.xlim(20.157, 20.169)\n",
    "\n",
    "    plt.subplot(1,3,3)\n",
    "    plt.scatter([i[0] for i in tzc_data], [i[1] for i in tzc_data], 10, [i[2] for i in tzc_data])\n",
    "    plt.title(\"z vs. t\")\n",
    "    plt.xlabel(\"t (ns)\")\n",
    "    plt.ylabel(\"z (# of planes)\")\n",
    "    # plt.xlim(20.157, 20.169)\n",
    "\n",
    "    plt.subplots_adjust(left = 0.1,\n",
    "                        bottom = 0.1, \n",
    "                        right = 0.9, \n",
    "                        top = 0.9, \n",
    "                        wspace = 0.5, \n",
    "                        hspace = 0.4)"
   ],
   "outputs": [],
   "metadata": {}
  },
  {
   "cell_type": "code",
   "execution_count": 54,
   "source": [
    "tree = get_file_data(\"pienux_out_stripped.root\")\n",
    "print(tree)"
   ],
   "outputs": [
    {
     "output_type": "stream",
     "name": "stdout",
     "text": [
      "['pixel_hits', 'pixel_pdg', 'pixel_edep', 'pixel_time', 'nhit', 'has_pion', 'pion_decay', 'pion_dar', 'has_muon', 'muon_decay', 'muon_dar', 'has_positron', 'pion_total_edep', 'muon_total_edep', 'pos_total_edep', 'has_excited_nucleus']\n",
      "\n",
      "\n",
      "None\n",
      "TFile**\t\tpienux_out_stripped.root\t\n",
      " TFile*\t\tpienux_out_stripped.root\t\n",
      "  KEY: TTree\tatar;6\tEnergy deposited in the ATAR [current cycle]\n",
      "  KEY: TTree\tatar;5\tEnergy deposited in the ATAR [backup cycle]\n",
      "  KEY: TTree\tatar;4\tEnergy deposited in the ATAR [backup cycle]\n",
      "  KEY: TTree\tcalorimeter;2\tEnergy deposited in the calorimeter [current cycle]\n",
      "  KEY: TTree\tcalorimeter;1\tEnergy deposited in the calorimeter [backup cycle]\n",
      "  KEY: TTree\tdegrader;2\tDegrader [current cycle]\n",
      "  KEY: TTree\tdegrader;1\tDegrader [backup cycle]\n",
      "  KEY: TTree\tinit;2\tInitial conditions of the simulation [current cycle]\n",
      "  KEY: TTree\tinit;1\tInitial conditions of the simulation [backup cycle]\n"
     ]
    }
   ],
   "metadata": {}
  },
  {
   "cell_type": "code",
   "execution_count": 53,
   "source": [
    "data = get_event(tree)\n",
    "display_event(data)\n",
    "plot_event(data)"
   ],
   "outputs": [
    {
     "output_type": "stream",
     "name": "stdout",
     "text": [
      "None\n"
     ]
    },
    {
     "output_type": "error",
     "ename": "TypeError",
     "evalue": "'CPyCppyy_NoneType' object is not iterable",
     "traceback": [
      "\u001b[0;31m---------------------------------------------------------------------------\u001b[0m",
      "\u001b[0;31mTypeError\u001b[0m                                 Traceback (most recent call last)",
      "\u001b[0;32m<ipython-input-53-f4a0d02e5e21>\u001b[0m in \u001b[0;36m<module>\u001b[0;34m\u001b[0m\n\u001b[0;32m----> 1\u001b[0;31m \u001b[0mdata\u001b[0m \u001b[0;34m=\u001b[0m \u001b[0mget_event\u001b[0m\u001b[0;34m(\u001b[0m\u001b[0mtree\u001b[0m\u001b[0;34m)\u001b[0m\u001b[0;34m\u001b[0m\u001b[0;34m\u001b[0m\u001b[0m\n\u001b[0m\u001b[1;32m      2\u001b[0m \u001b[0mdisplay_event\u001b[0m\u001b[0;34m(\u001b[0m\u001b[0mdata\u001b[0m\u001b[0;34m)\u001b[0m\u001b[0;34m\u001b[0m\u001b[0;34m\u001b[0m\u001b[0m\n\u001b[1;32m      3\u001b[0m \u001b[0mplot_event\u001b[0m\u001b[0;34m(\u001b[0m\u001b[0mdata\u001b[0m\u001b[0;34m)\u001b[0m\u001b[0;34m\u001b[0m\u001b[0;34m\u001b[0m\u001b[0m\n",
      "\u001b[0;32m<ipython-input-49-3c8062614e00>\u001b[0m in \u001b[0;36mget_event\u001b[0;34m(tree)\u001b[0m\n\u001b[1;32m      8\u001b[0m \u001b[0;34m\u001b[0m\u001b[0m\n\u001b[1;32m      9\u001b[0m     \u001b[0;31m#Print an entry with no pion decay or a pion decay in flight.\u001b[0m\u001b[0;34m\u001b[0m\u001b[0;34m\u001b[0m\u001b[0;34m\u001b[0m\u001b[0m\n\u001b[0;32m---> 10\u001b[0;31m     \u001b[0;32mfor\u001b[0m \u001b[0mi\u001b[0m\u001b[0;34m,\u001b[0m \u001b[0me\u001b[0m \u001b[0;32min\u001b[0m \u001b[0menumerate\u001b[0m\u001b[0;34m(\u001b[0m\u001b[0mtree\u001b[0m\u001b[0;34m)\u001b[0m\u001b[0;34m:\u001b[0m\u001b[0;34m\u001b[0m\u001b[0;34m\u001b[0m\u001b[0m\n\u001b[0m\u001b[1;32m     11\u001b[0m         \u001b[0;32mif\u001b[0m \u001b[0me\u001b[0m\u001b[0;34m.\u001b[0m\u001b[0mpion_decay\u001b[0m \u001b[0;34m==\u001b[0m \u001b[0;36m1\u001b[0m \u001b[0;32mand\u001b[0m \u001b[0me\u001b[0m\u001b[0;34m.\u001b[0m\u001b[0mpion_dar\u001b[0m \u001b[0;34m==\u001b[0m \u001b[0;36m0\u001b[0m\u001b[0;34m:\u001b[0m\u001b[0;34m\u001b[0m\u001b[0;34m\u001b[0m\u001b[0m\n\u001b[1;32m     12\u001b[0m             \u001b[0mprint\u001b[0m\u001b[0;34m(\u001b[0m\u001b[0mi\u001b[0m\u001b[0;34m)\u001b[0m\u001b[0;34m\u001b[0m\u001b[0;34m\u001b[0m\u001b[0m\n",
      "\u001b[0;31mTypeError\u001b[0m: 'CPyCppyy_NoneType' object is not iterable"
     ]
    }
   ],
   "metadata": {}
  },
  {
   "cell_type": "code",
   "execution_count": null,
   "source": [],
   "outputs": [],
   "metadata": {}
  }
 ],
 "metadata": {
  "interpreter": {
   "hash": "8ad0f5709d285b1e6eea2a165a1d74e2a4b1048787d1bd3c69bd19dd0f496a7a"
  },
  "kernelspec": {
   "name": "python3",
   "display_name": "Python 3.9.1 64-bit ('base': conda)"
  },
  "language_info": {
   "codemirror_mode": {
    "name": "ipython",
    "version": 3
   },
   "file_extension": ".py",
   "mimetype": "text/x-python",
   "name": "python",
   "nbconvert_exporter": "python",
   "pygments_lexer": "ipython3",
   "version": "3.9.1"
  },
  "orig_nbformat": 4
 },
 "nbformat": 4,
 "nbformat_minor": 2
}