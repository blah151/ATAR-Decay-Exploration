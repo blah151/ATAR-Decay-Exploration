{
 "cells": [
  {
   "cell_type": "code",
   "execution_count": 27,
   "metadata": {},
   "outputs": [],
   "source": [
    "import ROOT as r\n",
    "import numpy as np\n",
    "\n",
    "r.gStyle.SetOptStat(0)"
   ]
  },
  {
   "cell_type": "code",
   "execution_count": 28,
   "metadata": {},
   "outputs": [
    {
     "name": "stdout",
     "output_type": "stream",
     "text": [
      "TFile**\t\tpienux_out_stripped.root\t\n",
      " TFile*\t\tpienux_out_stripped.root\t\n",
      "  KEY: TTree\tatar;6\tEnergy deposited in the ATAR [current cycle]\n",
      "  KEY: TTree\tatar;5\tEnergy deposited in the ATAR [backup cycle]\n",
      "  KEY: TTree\tatar;4\tEnergy deposited in the ATAR [backup cycle]\n",
      "  KEY: TTree\tcalorimeter;2\tEnergy deposited in the calorimeter [current cycle]\n",
      "  KEY: TTree\tcalorimeter;1\tEnergy deposited in the calorimeter [backup cycle]\n",
      "  KEY: TTree\tdegrader;2\tDegrader [current cycle]\n",
      "  KEY: TTree\tdegrader;1\tDegrader [backup cycle]\n",
      "  KEY: TTree\tinit;2\tInitial conditions of the simulation [current cycle]\n",
      "  KEY: TTree\tinit;1\tInitial conditions of the simulation [backup cycle]\n"
     ]
    }
   ],
   "source": [
    "f = r.TFile(\"pienux_out_stripped.root\")\n",
    "f.ls()"
   ]
  },
  {
   "cell_type": "code",
   "execution_count": 29,
   "metadata": {},
   "outputs": [
    {
     "name": "stdout",
     "output_type": "stream",
     "text": [
      "['time', 'edep', 'x', 'y', 'z', 'r', 'theta', 'phi', 'theta_e', 'phi_e', 'nparticles', 'has_pion', 'has_muon']\n"
     ]
    }
   ],
   "source": [
    "t = f.Get(\"calorimeter\")\n",
    "print([x.GetName() for x in t.GetListOfBranches()])"
   ]
  },
  {
   "cell_type": "code",
   "execution_count": 30,
   "metadata": {},
   "outputs": [
    {
     "data": {
      "text/plain": [
       "<cppyy.gbl.TFriendElement object at 0x563e07518fe0>"
      ]
     },
     "execution_count": 30,
     "metadata": {},
     "output_type": "execute_result"
    }
   ],
   "source": [
    "t.AddFriend(\"atar\")"
   ]
  },
  {
   "cell_type": "code",
   "execution_count": 31,
   "metadata": {},
   "outputs": [],
   "source": [
    "h = r.TH2D(\"h\", \"Energy in Calorimeter with 28 Rad. Lengths of LXe\", \n",
    "            100,0,3.14,\n",
    "            200,0,100)\n",
    "\n",
    "c = r.TCanvas()\n",
    "c.Divide(2,1)\n",
    "c.cd(1)\n",
    "t.Draw(\"edep:theta>>h\",\"theta > -10 && atar.has_pion && atar.pion_dar\",\"colz\")\n",
    "\n",
    "angles = [10, 18, 20, 22, 25, 30, 35, 40, 50]\n",
    "radangles = np.deg2rad(angles)\n",
    "colors = [1, 2, 3, 4, 6, 7, 8, 9, 11]\n",
    "lines = []\n",
    "for i in range(9):\n",
    "    lines.append(r.TLine(radangles[i], 0, radangles[i], 100))\n",
    "    lines.append(r.TLine(np.pi - radangles[i], 0, np.pi - radangles[i], 100))\n",
    "    lines[2*i].SetLineColor(colors[i])\n",
    "    lines[2*i].Draw()\n",
    "    lines[2*i + 1].SetLineColor(colors[i])\n",
    "    lines[2*i + 1].Draw()"
   ]
  },
  {
   "cell_type": "code",
   "execution_count": 32,
   "metadata": {},
   "outputs": [
    {
     "data": {
      "image/png": "[encoded data removed]",
      "text/plain": [
       "<IPython.core.display.Image object>"
      ]
     },
     "metadata": {},
     "output_type": "display_data"
    }
   ],
   "source": [
    "c.cd(2)\n",
    "h2 = r.TH1D(\"h2\", \"Energy in Calorimeter [Pion DAR in ATAR]\", \n",
    "            100,0,100)\n",
    "lgd = r.TLegend(0.7, 0.6, 0.9, 0.9)\n",
    "\n",
    "#NOTE: I had to repeat the curve with index 0 for the \"SAME\" option to not fail while\n",
    "# still being able to refer to >>h2\n",
    "t.SetLineColor(colors[0])\n",
    "t.Draw(\"edep>>h2\", \"theta > \" + str(radangles[0]))\n",
    "for i in range(0,9):\n",
    "    t.SetLineColor(colors[i])\n",
    "    t.Draw(\"edep\", \"theta > \" + str(radangles[i]), \"SAME\")\n",
    "    lgd.AddEntry(t, \"#theta = \" + str(angles[i]) + \"#circ\", \"l\")\n",
    "c.GetPad(2).SetLogy()\n",
    "lgd.Draw()\n",
    "c.Draw()"
   ]
  },
  {
   "cell_type": "code",
   "execution_count": null,
   "metadata": {},
   "outputs": [],
   "source": []
  }
 ],
 "metadata": {
  "interpreter": {
   "hash": "8ad0f5709d285b1e6eea2a165a1d74e2a4b1048787d1bd3c69bd19dd0f496a7a"
  },
  "kernelspec": {
   "display_name": "Python 3.9.1 64-bit ('base': conda)",
   "name": "python3"
  },
  "language_info": {
   "name": "python",
   "version": ""
  },
  "orig_nbformat": 4
 },
 "nbformat": 4,
 "nbformat_minor": 2
}